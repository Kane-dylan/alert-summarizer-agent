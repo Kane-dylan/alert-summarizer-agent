{
 "cells": [
  {
   "cell_type": "code",
   "execution_count": null,
   "id": "eea5aa88",
   "metadata": {},
   "outputs": [],
   "source": [
    "from transformers import pipeline\n",
    "\n",
    "summarizer = pipeline(\"summarization\", model=\"facebook/bart-large-cnn\")\n",
    "\n",
    "text = \"\"\"\n",
    "High temperature detected in AHU-3. Sensor value exceeded 90°C for 15 minutes.\n",
    "Another spike in Pump-2 vibration was logged at 3:22 PM, with threshold breach.\n",
    "\"\"\"\n",
    "\n",
    "summary = summarizer(text, max_length=60, min_length=20, do_sample=False)\n",
    "print(summary[0]['summary_text'])\n"
   ]
  }
 ],
 "metadata": {
  "kernelspec": {
   "display_name": "venv",
   "language": "python",
   "name": "python3"
  },
  "language_info": {
   "codemirror_mode": {
    "name": "ipython",
    "version": 3
   },
   "file_extension": ".py",
   "mimetype": "text/x-python",
   "name": "python",
   "nbconvert_exporter": "python",
   "pygments_lexer": "ipython3",
   "version": "3.10.11"
  }
 },
 "nbformat": 4,
 "nbformat_minor": 5
}
