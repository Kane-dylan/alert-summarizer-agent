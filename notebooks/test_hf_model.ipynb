{
 "cells": [
  {
   "cell_type": "code",
   "execution_count": 3,
   "id": "eea5aa88",
   "metadata": {},
   "outputs": [
    {
     "ename": "",
     "evalue": "",
     "output_type": "error",
     "traceback": [
      "\u001b[1;31mThe Kernel crashed while executing code in the current cell or a previous cell. \n",
      "\u001b[1;31mPlease review the code in the cell(s) to identify a possible cause of the failure. \n",
      "\u001b[1;31mClick <a href='https://aka.ms/vscodeJupyterKernelCrash'>here</a> for more info. \n",
      "\u001b[1;31mView Jupyter <a href='command:jupyter.viewOutput'>log</a> for further details."
     ]
    }
   ],
   "source": [
    "from transformers import pipeline\n",
    "\n",
    "summarizer = pipeline(\"summarization\", model=\"facebook/bart-large-cnn\")\n",
    "\n",
    "text = \"\"\"\n",
    "High temperature detected in AHU-3. Sensor value exceeded 90°C for 15 minutes.\n",
    "Another spike in Pump-2 vibration was logged at 3:22 PM, with threshold breach.\n",
    "\"\"\"\n",
    "\n",
    "summary = summarizer(text, max_length=60, min_length=20, do_sample=False)\n",
    "print(summary[0]['summary_text'])\n"
   ]
  },
  {
   "cell_type": "code",
   "execution_count": null,
   "id": "f0eb7918",
   "metadata": {},
   "outputs": [],
   "source": [
    "from src.summarizer import AlertSummarizer\n",
    "\n",
    "summarizer = AlertSummarizer(n_clusters=2)\n",
    "result_df = summarizer.run(\"data/sample_alerts.csv\")\n",
    "\n",
    "print(result_df)\n"
   ]
  },
  {
   "cell_type": "code",
   "execution_count": null,
   "id": "cf529cdf",
   "metadata": {},
   "outputs": [],
   "source": [
    "from src.feedback_loop import save_feedback, get_feedback_stats\n",
    "\n",
    "# Save a feedback entry\n",
    "save_feedback(cluster_id=0, summary_text=\"Cluster 0: Power issues\", rating=\"Not Helpful\", comment=\"Too vague\")\n",
    "\n",
    "# See aggregate feedback\n",
    "stats = get_feedback_stats()\n",
    "print(stats)\n"
   ]
  }
 ],
 "metadata": {
  "kernelspec": {
   "display_name": "venv",
   "language": "python",
   "name": "python3"
  },
  "language_info": {
   "codemirror_mode": {
    "name": "ipython",
    "version": 3
   },
   "file_extension": ".py",
   "mimetype": "text/x-python",
   "name": "python",
   "nbconvert_exporter": "python",
   "pygments_lexer": "ipython3",
   "version": "3.10.11"
  }
 },
 "nbformat": 4,
 "nbformat_minor": 5
}
