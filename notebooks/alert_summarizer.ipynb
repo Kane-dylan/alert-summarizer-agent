{
 "cells": [
  {
   "cell_type": "code",
   "execution_count": 7,
   "id": "635dffcd",
   "metadata": {},
   "outputs": [],
   "source": [
    "# Setup: Add project root to Python path\n",
    "import sys\n",
    "import os\n",
    "sys.path.append(os.path.abspath(os.path.join(os.getcwd(), '..')))"
   ]
  },
  {
   "cell_type": "code",
   "execution_count": 4,
   "id": "515ee178",
   "metadata": {},
   "outputs": [
    {
     "name": "stdout",
     "output_type": "stream",
     "text": [
      "Current working directory: d:\\Repos\\alert-summarizer-agent\n",
      "Creating sample feedback data...\n",
      "[INFO] Feedback saved for Cluster 0\n",
      "[INFO] Feedback saved for Cluster 0\n",
      "[INFO] Feedback saved for Cluster 0\n",
      "[INFO] Feedback saved for Cluster 1\n",
      "[INFO] Feedback saved for Cluster 1\n",
      "[INFO] Feedback saved for Cluster 1\n",
      "Sample feedback data created!\n"
     ]
    }
   ],
   "source": [
    "# Create sample feedback data for demonstration\n",
    "import os\n",
    "\n",
    "# Change to the project root directory\n",
    "os.chdir('..')\n",
    "print(f\"Current working directory: {os.getcwd()}\")\n",
    "\n",
    "from src.feedback_loop import save_feedback, get_feedback_stats\n",
    "\n",
    "# Ensure data directory exists\n",
    "os.makedirs(\"data\", exist_ok=True)\n",
    "\n",
    "# Create some sample feedback entries\n",
    "print(\"Creating sample feedback data...\")\n",
    "\n",
    "# Sample feedback for cluster 0\n",
    "save_feedback(cluster_id=0, summary_text=\"Cluster 0: Power issues\", rating=\"Not Helpful\", comment=\"Too vague\")\n",
    "save_feedback(cluster_id=0, summary_text=\"Cluster 0: Power issues\", rating=\"Not Helpful\", comment=\"Need more detail\")  \n",
    "save_feedback(cluster_id=0, summary_text=\"Cluster 0: Power issues\", rating=\"Helpful\", comment=\"Good overview\")\n",
    "\n",
    "# Sample feedback for cluster 1\n",
    "save_feedback(cluster_id=1, summary_text=\"Multiple high temperature alerts in AHU-3\", rating=\"Helpful\", comment=\"Well written\")\n",
    "save_feedback(cluster_id=1, summary_text=\"Multiple high temperature alerts in AHU-3\", rating=\"Helpful\", comment=\"Clear and actionable\")\n",
    "save_feedback(cluster_id=1, summary_text=\"Multiple high temperature alerts in AHU-3\", rating=\"Helpful\", comment=\"Perfect summary\")\n",
    "\n",
    "print(\"Sample feedback data created!\")"
   ]
  },
  {
   "cell_type": "code",
   "execution_count": 5,
   "id": "f5408073",
   "metadata": {},
   "outputs": [
    {
     "name": "stdout",
     "output_type": "stream",
     "text": [
      "Feedback Statistics:\n",
      "{0: {'not_helpful': 2, 'helpful': 1}, 1: {'not_helpful': 0, 'helpful': 3}}\n"
     ]
    }
   ],
   "source": [
    "# Display feedback statistics (as shown in your example)\n",
    "from src.feedback_loop import get_feedback_stats\n",
    "\n",
    "print(\"Feedback Statistics:\")\n",
    "stats = get_feedback_stats()\n",
    "print(stats)"
   ]
  },
  {
   "cell_type": "code",
   "execution_count": 6,
   "id": "97d09b39",
   "metadata": {},
   "outputs": [
    {
     "name": "stdout",
     "output_type": "stream",
     "text": [
      "🔒 Feedback File Output (data/feedback_log.json)\n",
      "[\n",
      "  {\n",
      "    \"timestamp\": \"2025-06-30T16:02:49.158888\",\n",
      "    \"cluster_id\": 0,\n",
      "    \"summary\": \"Cluster 0: Power issues\",\n",
      "    \"rating\": \"Not Helpful\",\n",
      "    \"comment\": \"Too vague\"\n",
      "  },\n",
      "  {\n",
      "    \"timestamp\": \"2025-06-30T16:02:49.158888\",\n",
      "    \"cluster_id\": 0,\n",
      "    \"summary\": \"Cluster 0: Power issues\",\n",
      "    \"rating\": \"Not Helpful\",\n",
      "    \"comment\": \"Need more detail\"\n",
      "  },\n",
      "  {\n",
      "    \"timestamp\": \"2025-06-30T16:02:49.172198\",\n",
      "    \"cluster_id\": 0,\n",
      "    \"summary\": \"Cluster 0: Power issues\",\n",
      "    \"rating\": \"Helpful\",\n",
      "    \"comment\": \"Good overview\"\n",
      "  },\n",
      "  {\n",
      "    \"timestamp\": \"2025-06-30T16:02:49.175178\",\n",
      "    \"cluster_id\": 1,\n",
      "    \"summary\": \"Multiple high temperature alerts in AHU-3\",\n",
      "    \"rating\": \"Helpful\",\n",
      "    \"comment\": \"Well written\"\n",
      "  },\n",
      "  {\n",
      "    \"timestamp\": \"2025-06-30T16:02:49.175178\",\n",
      "    \"cluster_id\": 1,\n",
      "    \"summary\": \"Multiple high temperature alerts in AHU-3\",\n",
      "    \"rating\": \"Helpful\",\n",
      "    \"comment\": \"Clear and actionable\"\n",
      "  },\n",
      "  {\n",
      "    \"timestamp\": \"2025-06-30T16:02:49.180060\",\n",
      "    \"cluster_id\": 1,\n",
      "    \"summary\": \"Multiple high temperature alerts in AHU-3\",\n",
      "    \"rating\": \"Helpful\",\n",
      "    \"comment\": \"Perfect summary\"\n",
      "  }\n",
      "]\n"
     ]
    }
   ],
   "source": [
    "# Display the feedback log file contents (JSON format)\n",
    "import json\n",
    "\n",
    "print(\"🔒 Feedback File Output (data/feedback_log.json)\")\n",
    "with open(\"data/feedback_log.json\", \"r\") as f:\n",
    "    feedback_data = json.load(f)\n",
    "\n",
    "# Pretty print the JSON\n",
    "print(json.dumps(feedback_data, indent=2))"
   ]
  }
 ],
 "metadata": {
  "kernelspec": {
   "display_name": "venv",
   "language": "python",
   "name": "python3"
  },
  "language_info": {
   "codemirror_mode": {
    "name": "ipython",
    "version": 3
   },
   "file_extension": ".py",
   "mimetype": "text/x-python",
   "name": "python",
   "nbconvert_exporter": "python",
   "pygments_lexer": "ipython3",
   "version": "3.10.11"
  }
 },
 "nbformat": 4,
 "nbformat_minor": 5
}
